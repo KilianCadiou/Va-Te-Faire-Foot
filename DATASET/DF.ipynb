{
 "cells": [
  {
   "cell_type": "code",
   "execution_count": 30,
   "metadata": {},
   "outputs": [],
   "source": [
    "navigator = 'Mozilla/5.0 (Macintosh; Intel Mac OS X 10_10_1)'\n",
    "url_base = 'https://sofifa.com/player/'\n",
    "from bs4 import BeautifulSoup\n",
    "import requests\n",
    "import numpy as np\n",
    "import time\n",
    "import pandas as pd\n",
    "import streamlit as st\n",
    "from streamlit_option_menu import option_menu\n",
    "import ast\n",
    "import warnings\n",
    "warnings.filterwarnings(\"ignore\", category=UserWarning)\n",
    "warnings.filterwarnings(\"ignore\", category=FutureWarning)\n",
    "from bs4 import BeautifulSoup\n",
    "import pickle\n",
    "import requests\n",
    "import re\n",
    "from bs4 import BeautifulSoup\n",
    "import requests\n",
    "import plotly.express as px"
   ]
  },
  {
   "cell_type": "code",
   "execution_count": 31,
   "metadata": {},
   "outputs": [],
   "source": [
    "df = pd.read_csv(\"/Users/kilian/Documents/GitHub/Projet-3/dataset_a_jour_1.csv\")"
   ]
  },
  {
   "cell_type": "code",
   "execution_count": null,
   "metadata": {},
   "outputs": [],
   "source": [
    "df1 = pd.read_csv('/Users/kilian/Documents/GitHub/Projet-3/STREAMLIT/BD/dataset_a_jour_1.csv')\n",
    "df2 = pd.read_csv('/Users/kilian/Documents/GitHub/Projet-3/STREAMLIT/BD/dataset_a_jour_2.csv')\n",
    "df3 = pd.read_csv('/Users/kilian/Documents/GitHub/Projet-3/STREAMLIT/BD/dataset_a_jour_3.csv')\n",
    "df4 = pd.read_csv('/Users/kilian/Documents/GitHub/Projet-3/STREAMLIT/BD/dataset_a_jour_4.csv')\n",
    "df5 = pd.read_csv('/Users/kilian/Documents/GitHub/Projet-3/STREAMLIT/BD/dataset_a_jour_5.csv')\n",
    "df6 = pd.read_csv('/Users/kilian/Documents/GitHub/Projet-3/STREAMLIT/BD/dataset_a_jour_6.csv')\n",
    "df7 = pd.read_csv('/Users/kilian/Documents/GitHub/Projet-3/STREAMLIT/BD/dataset_a_jour_7.csv')\n",
    "df8 = pd.read_csv('/Users/kilian/Documents/GitHub/Projet-3/STREAMLIT/BD/dataset_a_jour_8.csv')\n",
    "df9 = pd.read_csv('/Users/kilian/Documents/GitHub/Projet-3/STREAMLIT/BD/dataset_a_jour_9.csv')\n",
    "df10 = pd.read_csv('/Users/kilian/Documents/GitHub/Projet-3/STREAMLIT/BD/dataset_a_jour_10.csv')\n",
    "\n",
    "df = pd.concat([df1, df2, df3, df4, df5, df6, df7, df8, df9, df10])"
   ]
  },
  {
   "cell_type": "code",
   "execution_count": null,
   "metadata": {},
   "outputs": [],
   "source": [
    "len(df)"
   ]
  },
  {
   "cell_type": "code",
   "execution_count": 63,
   "metadata": {},
   "outputs": [],
   "source": [
    "import pandas as pd\n",
    "df1 = pd.read_csv('/Users/kilian/Documents/GitHub/Projet-3/dataset_a_jour_1.csv')\n",
    "df2 = pd.read_csv('/Users/kilian/Documents/GitHub/Projet-3/dataset_a_jour_2.csv')\n",
    "df3 = pd.read_csv('/Users/kilian/Documents/GitHub/Projet-3/dataset_a_jour_3.csv')\n",
    "df4 = pd.read_csv('/Users/kilian/Documents/GitHub/Projet-3/dataset_a_jour_4.csv')\n",
    "df5 = pd.read_csv('/Users/kilian/Documents/GitHub/Projet-3/dataset_a_jour_5.csv')\n",
    "df6 = pd.read_csv('/Users/kilian/Documents/GitHub/Projet-3/dataset_a_jour_6.csv')\n",
    "df7 = pd.read_csv('/Users/kilian/Documents/GitHub/Projet-3/dataset_a_jour_7.csv')\n",
    "df8 = pd.read_csv('/Users/kilian/Documents/GitHub/Projet-3/dataset_a_jour_8.csv')\n",
    "df9 = pd.read_csv('/Users/kilian/Documents/GitHub/Projet-3/dataset_a_jour_9.csv')\n",
    "df10 = pd.read_csv('/Users/kilian/Documents/GitHub/Projet-3/dataset_a_jour_10.csv')"
   ]
  },
  {
   "cell_type": "code",
   "execution_count": null,
   "metadata": {},
   "outputs": [],
   "source": [
    "len(df1), len(df2), len(df3), len(df4), len(df5), len(df6), len(df7), len(df8), len(df9), len(df10)"
   ]
  },
  {
   "cell_type": "code",
   "execution_count": null,
   "metadata": {},
   "outputs": [],
   "source": [
    "len(df1)+len(df2)+len(df3)+len(df4)+len(df5)+len(df6)+len(df7)+len(df8)+len(df9)+len(df10)"
   ]
  },
  {
   "cell_type": "code",
   "execution_count": null,
   "metadata": {},
   "outputs": [],
   "source": [
    "df = pd.concat([df1, df2, df3, df4, df5, df6, df7, df8, df9, df10])"
   ]
  },
  {
   "cell_type": "code",
   "execution_count": 67,
   "metadata": {},
   "outputs": [],
   "source": [
    "df.to_csv('dataset_a_jour.csv')"
   ]
  }
 ],
 "metadata": {
  "kernelspec": {
   "display_name": "base",
   "language": "python",
   "name": "python3"
  },
  "language_info": {
   "codemirror_mode": {
    "name": "ipython",
    "version": 3
   },
   "file_extension": ".py",
   "mimetype": "text/x-python",
   "name": "python",
   "nbconvert_exporter": "python",
   "pygments_lexer": "ipython3",
   "version": "3.12.8"
  }
 },
 "nbformat": 4,
 "nbformat_minor": 2
}
