{
 "cells": [
  {
   "cell_type": "code",
   "execution_count": 21,
   "metadata": {},
   "outputs": [],
   "source": [
    "import requests\n",
    "import numpy as np\n",
    "import time\n",
    "import pandas as pd\n",
    "import streamlit as st\n",
    "from streamlit_option_menu import option_menu\n",
    "import ast\n",
    "import warnings\n",
    "warnings.filterwarnings(\"ignore\", category=UserWarning)\n",
    "warnings.filterwarnings(\"ignore\", category=FutureWarning)\n",
    "from bs4 import BeautifulSoup\n",
    "import pickle\n",
    "import requests\n",
    "import re\n",
    "import plotly.express as px\n",
    "from fake_useragent import UserAgent\n",
    "import random"
   ]
  },
  {
   "cell_type": "code",
   "execution_count": 22,
   "metadata": {},
   "outputs": [
    {
     "name": "stderr",
     "output_type": "stream",
     "text": [
      "2025-02-14 12:43:09 WARNING bs4.dammit.dammit.py[615] Some characters could not be decoded, and were replaced with REPLACEMENT CHARACTER.\n",
      "2025-02-14 12:43:12 WARNING bs4.dammit.dammit.py[615] Some characters could not be decoded, and were replaced with REPLACEMENT CHARACTER.\n",
      "2025-02-14 12:43:20 WARNING bs4.dammit.dammit.py[615] Some characters could not be decoded, and were replaced with REPLACEMENT CHARACTER.\n",
      "2025-02-14 12:43:28 WARNING bs4.dammit.dammit.py[615] Some characters could not be decoded, and were replaced with REPLACEMENT CHARACTER.\n",
      "2025-02-14 12:43:30 WARNING bs4.dammit.dammit.py[615] Some characters could not be decoded, and were replaced with REPLACEMENT CHARACTER.\n",
      "2025-02-14 12:43:35 WARNING bs4.dammit.dammit.py[615] Some characters could not be decoded, and were replaced with REPLACEMENT CHARACTER.\n",
      "2025-02-14 12:43:39 WARNING bs4.dammit.dammit.py[615] Some characters could not be decoded, and were replaced with REPLACEMENT CHARACTER.\n",
      "2025-02-14 12:43:43 WARNING bs4.dammit.dammit.py[615] Some characters could not be decoded, and were replaced with REPLACEMENT CHARACTER.\n",
      "2025-02-14 12:44:01 WARNING bs4.dammit.dammit.py[615] Some characters could not be decoded, and were replaced with REPLACEMENT CHARACTER.\n",
      "2025-02-14 12:44:06 WARNING bs4.dammit.dammit.py[615] Some characters could not be decoded, and were replaced with REPLACEMENT CHARACTER.\n",
      "2025-02-14 12:44:08 WARNING bs4.dammit.dammit.py[615] Some characters could not be decoded, and were replaced with REPLACEMENT CHARACTER.\n",
      "2025-02-14 12:44:11 WARNING bs4.dammit.dammit.py[615] Some characters could not be decoded, and were replaced with REPLACEMENT CHARACTER.\n",
      "2025-02-14 12:44:23 WARNING bs4.dammit.dammit.py[615] Some characters could not be decoded, and were replaced with REPLACEMENT CHARACTER.\n",
      "2025-02-14 12:44:26 WARNING bs4.dammit.dammit.py[615] Some characters could not be decoded, and were replaced with REPLACEMENT CHARACTER.\n",
      "2025-02-14 12:44:27 WARNING bs4.dammit.dammit.py[615] Some characters could not be decoded, and were replaced with REPLACEMENT CHARACTER.\n",
      "2025-02-14 12:44:35 WARNING bs4.dammit.dammit.py[615] Some characters could not be decoded, and were replaced with REPLACEMENT CHARACTER.\n",
      "2025-02-14 12:44:37 WARNING bs4.dammit.dammit.py[615] Some characters could not be decoded, and were replaced with REPLACEMENT CHARACTER.\n",
      "2025-02-14 12:45:11 WARNING bs4.dammit.dammit.py[615] Some characters could not be decoded, and were replaced with REPLACEMENT CHARACTER.\n",
      "2025-02-14 12:45:12 WARNING bs4.dammit.dammit.py[615] Some characters could not be decoded, and were replaced with REPLACEMENT CHARACTER.\n",
      "2025-02-14 12:45:20 WARNING bs4.dammit.dammit.py[615] Some characters could not be decoded, and were replaced with REPLACEMENT CHARACTER.\n",
      "2025-02-14 12:45:25 WARNING bs4.dammit.dammit.py[615] Some characters could not be decoded, and were replaced with REPLACEMENT CHARACTER.\n",
      "2025-02-14 12:45:41 WARNING bs4.dammit.dammit.py[615] Some characters could not be decoded, and were replaced with REPLACEMENT CHARACTER.\n",
      "2025-02-14 12:45:59 WARNING bs4.dammit.dammit.py[615] Some characters could not be decoded, and were replaced with REPLACEMENT CHARACTER.\n",
      "2025-02-14 12:46:05 WARNING bs4.dammit.dammit.py[615] Some characters could not be decoded, and were replaced with REPLACEMENT CHARACTER.\n",
      "2025-02-14 12:46:29 WARNING bs4.dammit.dammit.py[615] Some characters could not be decoded, and were replaced with REPLACEMENT CHARACTER.\n",
      "2025-02-14 12:47:02 WARNING bs4.dammit.dammit.py[615] Some characters could not be decoded, and were replaced with REPLACEMENT CHARACTER.\n",
      "2025-02-14 12:47:08 WARNING bs4.dammit.dammit.py[615] Some characters could not be decoded, and were replaced with REPLACEMENT CHARACTER.\n",
      "2025-02-14 12:47:26 WARNING bs4.dammit.dammit.py[615] Some characters could not be decoded, and were replaced with REPLACEMENT CHARACTER.\n",
      "2025-02-14 12:48:51 WARNING bs4.dammit.dammit.py[615] Some characters could not be decoded, and were replaced with REPLACEMENT CHARACTER.\n",
      "2025-02-14 12:49:03 WARNING bs4.dammit.dammit.py[615] Some characters could not be decoded, and were replaced with REPLACEMENT CHARACTER.\n",
      "2025-02-14 12:49:20 WARNING bs4.dammit.dammit.py[615] Some characters could not be decoded, and were replaced with REPLACEMENT CHARACTER.\n"
     ]
    }
   ],
   "source": [
    "\n",
    "# # Initialisation de la session\n",
    "# session = requests.Session()\n",
    "\n",
    "# # Générateur de User-Agent dynamique\n",
    "# ua = UserAgent()\n",
    "\n",
    "# # URL de base\n",
    "# url_base = 'https://sofifa.com/player/'\n",
    "\n",
    "# # Liste des IDs valides\n",
    "# liste_id_valide = []\n",
    "\n",
    "# # Fonction pour générer des headers dynamiques\n",
    "# def get_headers():\n",
    "#     return {\n",
    "#         'User-Agent': ua.random,  # Génère un User-Agent aléatoire\n",
    "#         'Referer': 'https://www.google.com/',\n",
    "#         'Accept-Language': 'fr-FR,fr;q=0.9,en;q=0.8',\n",
    "#         'Accept-Encoding': 'gzip, deflate, br',\n",
    "#         'Connection': 'keep-alive',\n",
    "#     }\n",
    "\n",
    "# for n in range(300000):\n",
    "#     url_finale = f'{url_base}{n}'\n",
    "#     tentative = 0\n",
    "\n",
    "#     while tentative < 5:\n",
    "#         try:\n",
    "#             response = session.get(url_finale, headers=get_headers(), timeout=10)\n",
    "\n",
    "#             if response.status_code == 200:\n",
    "#                 soup = BeautifulSoup(response.content, 'html.parser')\n",
    "\n",
    "#                 if \"robot\" in soup.text.lower() or \"captcha\" in soup.text.lower():\n",
    "#                     time.sleep(60)\n",
    "#                     break\n",
    "\n",
    "#                 liste_id_valide.append(n)\n",
    "#                 break\n",
    "\n",
    "#             elif response.status_code == 403:\n",
    "#                 tentative += 1\n",
    "#                 time.sleep(random.uniform(3, 6))\n",
    "\n",
    "#             elif response.status_code == 429:\n",
    "#                 time.sleep(60)\n",
    "#                 break\n",
    "\n",
    "#             else:\n",
    "#                 break\n",
    "\n",
    "#         except requests.exceptions.RequestException as e:\n",
    "#             tentative += 1\n",
    "#             time.sleep(random.uniform(5, 10))\n",
    "\n",
    "#     time.sleep(random.uniform(1, 3))\n"
   ]
  },
  {
   "cell_type": "code",
   "execution_count": null,
   "metadata": {},
   "outputs": [],
   "source": [
    "# liste_id_valide = []\n",
    "\n",
    "# navigator = 'Mozilla/5.0 (Macintosh; Intel Mac OS X 10_10_1)'\n",
    "# url_base = 'https://sofifa.com/player/'\n",
    "\n",
    "\n",
    "# for n in range(300000):\n",
    "#     id = n\n",
    "#     url_finale_title = f'{url_base}{id}'\n",
    "#     html_title = requests.get(url_finale_title, headers={'User-Agent': navigator})\n",
    "#     html_title2 = html_title.content\n",
    "#     soup_title = BeautifulSoup(html_title2, 'html.parser')\n",
    "\n",
    "#     if html_title.status_code == 200:\n",
    "#         liste_id_valide.append(n)\n",
    "\n",
    "# len(liste_id_valide)"
   ]
  },
  {
   "cell_type": "code",
   "execution_count": 1,
   "metadata": {},
   "outputs": [
    {
     "data": {
      "text/plain": [
       "Index(['Unnamed: 0.1', 'Unnamed: 0', 'name', 'Age', 'Overall rating',\n",
       "       'Potential', 'Team & Contract', 'ID', 'Height', 'Weight',\n",
       "       'Best overall', 'Best position', 'Growth', 'Value', 'Wage',\n",
       "       'Release clause', 'Total attacking', 'Crossing', 'Finishing',\n",
       "       'Heading accuracy', 'Short passing', 'Volleys', 'Total skill',\n",
       "       'Dribbling', 'Curve', 'FK Accuracy', 'Long passing', 'Ball control',\n",
       "       'Total movement', 'Acceleration', 'Sprint speed', 'Agility',\n",
       "       'Reactions', 'Balance', 'Total power', 'Shot power', 'Jumping',\n",
       "       'Stamina', 'Strength', 'Long shots', 'Total mentality', 'Aggression',\n",
       "       'Interceptions', 'Att. Position', 'Vision', 'Penalties', 'Composure',\n",
       "       'Total defending', 'Defensive awareness', 'Standing tackle',\n",
       "       'Sliding tackle', 'Total goalkeeping', 'GK Diving', 'GK Handling',\n",
       "       'GK Kicking', 'GK Positioning', 'GK Reflexes', 'Total stats',\n",
       "       'Base stats', 'International reputation', 'Pace / Diving',\n",
       "       'Shooting / Handling', 'Passing / Kicking', 'Dribbling / Reflexes',\n",
       "       'Defending / Pace', 'Pied droit'],\n",
       "      dtype='object')"
      ]
     },
     "execution_count": 1,
     "metadata": {},
     "output_type": "execute_result"
    }
   ],
   "source": [
    "import pandas as pd\n",
    "\n",
    "df = pd.read_csv('./dataset_a_jour_9.csv')\n",
    "\n",
    "df[df['Pace / Diving'].isna() == True]"
   ]
  }
 ],
 "metadata": {
  "kernelspec": {
   "display_name": "projet_3",
   "language": "python",
   "name": "python3"
  },
  "language_info": {
   "codemirror_mode": {
    "name": "ipython",
    "version": 3
   },
   "file_extension": ".py",
   "mimetype": "text/x-python",
   "name": "python",
   "nbconvert_exporter": "python",
   "pygments_lexer": "ipython3",
   "version": "3.12.8"
  }
 },
 "nbformat": 4,
 "nbformat_minor": 2
}
