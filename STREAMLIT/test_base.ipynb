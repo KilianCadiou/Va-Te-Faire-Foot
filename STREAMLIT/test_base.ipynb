{
 "cells": [
  {
   "cell_type": "code",
   "execution_count": 39,
   "metadata": {},
   "outputs": [],
   "source": [
    "import pandas as pd\n",
    "import re"
   ]
  },
  {
   "cell_type": "code",
   "execution_count": 40,
   "metadata": {},
   "outputs": [],
   "source": [
    "df = pd.read_csv('/Users/kilian/Documents/GitHub/Projet-3/STREAMLIT/BD/players_3120.csv')"
   ]
  },
  {
   "cell_type": "code",
   "execution_count": 41,
   "metadata": {},
   "outputs": [],
   "source": [
    "def revenue(test):\n",
    "    if 'M' not in test and 'K' not in test:\n",
    "        resultat = int(test.replace('€', ''))\n",
    "    elif 'K' in test and '.' not in test:\n",
    "        resultat = int(test.replace('K', '000').replace('€', ''))\n",
    "    elif 'K' in test and '.'  in test:\n",
    "        resultat = int(test.replace('K', '00').replace('€', ''))\n",
    "    elif 'M' in test and '.' not in test:\n",
    "        resultat = int(test.replace('M', '000000').replace('€', ''))\n",
    "    elif 'M' in test and '.' in test:\n",
    "        resultat = int(test.replace('M', '00000').replace('.', '').replace('€', ''))\n",
    "\n",
    "    return resultat"
   ]
  },
  {
   "cell_type": "code",
   "execution_count": 42,
   "metadata": {},
   "outputs": [
    {
     "data": {
      "text/plain": [
       "Index(['name', 'Age', 'Overall rating', 'Potential', 'Team & Contract', 'ID',\n",
       "       'Height', 'Weight', 'foot', 'Best overall', 'Best position', 'Growth',\n",
       "       'Value', 'Wage', 'Release clause', 'Total attacking', 'Crossing',\n",
       "       'Finishing', 'Heading accuracy', 'Short passing', 'Volleys',\n",
       "       'Total skill', 'Dribbling', 'Curve', 'FK Accuracy', 'Long passing',\n",
       "       'Ball control', 'Total movement', 'Acceleration', 'Sprint speed',\n",
       "       'Agility', 'Reactions', 'Balance', 'Total power', 'Shot power',\n",
       "       'Jumping', 'Stamina', 'Strength', 'Long shots', 'Total mentality',\n",
       "       'Aggression', 'Interceptions', 'Att. Position', 'Vision', 'Penalties',\n",
       "       'Composure', 'Total defending', 'Defensive awareness',\n",
       "       'Standing tackle', 'Sliding tackle', 'Total goalkeeping', 'GK Diving',\n",
       "       'GK Handling', 'GK Kicking', 'GK Positioning', 'GK Reflexes',\n",
       "       'Total stats', 'Base stats', 'International reputation',\n",
       "       'Pace / Diving', 'Shooting / Handling', 'Passing / Kicking',\n",
       "       'Dribbling / Reflexes', 'Defending / Pace', 'Unnamed: 64'],\n",
       "      dtype='object')"
      ]
     },
     "execution_count": 42,
     "metadata": {},
     "output_type": "execute_result"
    }
   ],
   "source": [
    "df.columns"
   ]
  }
 ],
 "metadata": {
  "kernelspec": {
   "display_name": "projet_3",
   "language": "python",
   "name": "python3"
  },
  "language_info": {
   "codemirror_mode": {
    "name": "ipython",
    "version": 3
   },
   "file_extension": ".py",
   "mimetype": "text/x-python",
   "name": "python",
   "nbconvert_exporter": "python",
   "pygments_lexer": "ipython3",
   "version": "3.12.8"
  }
 },
 "nbformat": 4,
 "nbformat_minor": 2
}
