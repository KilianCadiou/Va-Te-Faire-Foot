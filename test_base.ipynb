{
 "cells": [
  {
   "cell_type": "code",
   "execution_count": 18,
   "metadata": {},
   "outputs": [],
   "source": [
    "import pandas as pd\n",
    "navigator = 'Mozilla/5.0 (Macintosh; Intel Mac OS X 10_10_1)'\n",
    "url_base = 'https://sofifa.com/player/'\n",
    "from bs4 import BeautifulSoup\n",
    "import requests\n",
    "\n",
    "import pandas as pd\n",
    "import streamlit as st\n",
    "import streamlit_authenticator as stauth\n",
    "from streamlit_option_menu import option_menu\n",
    "import ast\n",
    "import warnings\n",
    "warnings.filterwarnings(\"ignore\", category=UserWarning)\n",
    "warnings.filterwarnings(\"ignore\", category=FutureWarning)\n",
    "from bs4 import BeautifulSoup\n",
    "import pickle\n",
    "import requests\n",
    "import re\n",
    "from bs4 import BeautifulSoup\n",
    "import requests"
   ]
  },
  {
   "cell_type": "code",
   "execution_count": 19,
   "metadata": {},
   "outputs": [],
   "source": [
    "df = pd.read_csv('/Users/kilian/Documents/GitHub/Projet-3/STREAMLIT/BD/players_3120.csv')"
   ]
  },
  {
   "cell_type": "code",
   "execution_count": 20,
   "metadata": {},
   "outputs": [],
   "source": [
    "df = df.sample(5)"
   ]
  },
  {
   "cell_type": "code",
   "execution_count": 23,
   "metadata": {},
   "outputs": [
    {
     "name": "stderr",
     "output_type": "stream",
     "text": [
      "<>:13: SyntaxWarning: invalid escape sequence '\\d'\n",
      "<>:13: SyntaxWarning: invalid escape sequence '\\d'\n",
      "/var/folders/2b/18xblx_n4lv24wz932vjckrm0000gp/T/ipykernel_3828/1908726828.py:13: SyntaxWarning: invalid escape sequence '\\d'\n",
      "  end_year = max(re.findall('\\d{4,}', end_contract))\n"
     ]
    }
   ],
   "source": [
    "def end_contract(id):\n",
    "    id = int(id)\n",
    "    url_finale_title = f'{url_base}{id}'\n",
    "    html_title = requests.get(url_finale_title, headers={'User-Agent': navigator})\n",
    "    html_title2 = html_title.content\n",
    "    soup_title = BeautifulSoup(html_title2, 'html.parser')\n",
    "\n",
    "    for balise_parent in soup_title.find_all('div', class_='grid attribute'):\n",
    "        if 'Contract valid until' in balise_parent.get_text().strip():\n",
    "                end_contract = balise_parent.get_text().strip()\n",
    "\n",
    "    try:\n",
    "        end_year = max(re.findall('\\d{4,}', end_contract))\n",
    "        end_year = int(end_year)\n",
    "    except:\n",
    "        end_year = 'Unknown'\n",
    "    \n",
    "    return end_year\n",
    "\n",
    "\n",
    "def overall(id):\n",
    "    id = int(id)\n",
    "    url_finale_title = f'{url_base}{id}'\n",
    "    html_title = requests.get(url_finale_title, headers={'User-Agent': navigator})\n",
    "    html_title2 = html_title.content\n",
    "    soup_title = BeautifulSoup(html_title2, 'html.parser')\n",
    "\n",
    "    for balise_parent2 in soup_title.find_all('div', class_= 'grid'):\n",
    "            if 'Overall' in balise_parent2.get_text().strip():\n",
    "                overall = balise_parent2.get_text().strip()\n",
    "\n",
    "    try:\n",
    "        overall = int(overall[:2])\n",
    "    except:\n",
    "        overall = 'Unknown'\n",
    "\n",
    "    return overall\n",
    "\n",
    "def salaire(id):\n",
    "    id = int(id)\n",
    "    url_finale_title = f'{url_base}{id}'\n",
    "    html_title = requests.get(url_finale_title, headers={'User-Agent': navigator})\n",
    "    html_title2 = html_title.content\n",
    "    soup_title = BeautifulSoup(html_title2, 'html.parser')\n",
    "\n",
    "    for balise_parent2 in soup_title.find_all('div', class_='col'):\n",
    "        if 'Value' in balise_parent2.get_text().strip():\n",
    "            valeur = balise_parent2.get_text().strip()\n",
    "        if 'Wage' in balise_parent2.get_text().strip():\n",
    "            salary = balise_parent2.get_text().strip()\n",
    "\n",
    "    valeur = valeur[:-5]\n",
    "    salary = salary[:-4]\n",
    "                \n",
    "    chiffres = [valeur, salary]\n",
    "    new_chiffres = []\n",
    "\n",
    "    for element in chiffres:\n",
    "        if 'M' not in element and 'K' not in element:\n",
    "            new_chiffres.append(int(element.replace('€', '')))\n",
    "        elif 'K' in element and '.' not in element:\n",
    "            new_chiffres.append(int(element.replace('K', '000').replace('€', '')))\n",
    "        elif 'K' in element and '.'  in element:\n",
    "            new_chiffres.append(int(element.replace('K', '00').replace('€', '')))\n",
    "        elif 'M' in element and '.' not in element:\n",
    "            new_chiffres.append(int(element.replace('M', '000000').replace('€', '')))\n",
    "        elif 'M' in element and '.' in element:\n",
    "            new_chiffres.append(int(element.replace('M', '00000').replace('.', '').replace('€', '')))\n",
    "\n",
    "    valeur = int(new_chiffres[0])\n",
    "\n",
    "    salary = int(new_chiffres[1])\n",
    "    salary = str(salary)\n",
    "\n",
    "    if len(salary) > 3:\n",
    "        if len(salary) > 6:\n",
    "            if len(salary) > 9:\n",
    "                if len(salary) > 12:\n",
    "                    salary = salary[:-12] + ' ' + salary[-12:-9] + ' ' + salary[-9:-6] + ' ' + salary[-6:-3] + ' ' + salary[-3:]\n",
    "                else:\n",
    "                    salary = salary[:-9] + ' ' + salary[-9:-6] + ' ' + salary[-6:-3] + ' ' + salary[-3:]\n",
    "            else:\n",
    "                salary = salary[:-6] + ' ' + salary[-6:-3] + ' ' + salary[-3:]\n",
    "        else:\n",
    "            salary = salary[:-3] + ' ' + salary[-3:]\n",
    "    else:\n",
    "        salary = salary\n",
    "\n",
    "    salary = salary + ' €'\n",
    "\n",
    "    return salary\n"
   ]
  },
  {
   "cell_type": "code",
   "execution_count": 24,
   "metadata": {},
   "outputs": [
    {
     "data": {
      "text/plain": [
       "391     64 000 €\n",
       "2626    31 000 €\n",
       "1964     8 000 €\n",
       "479     13 000 €\n",
       "495     60 000 €\n",
       "Name: salaire, dtype: object"
      ]
     },
     "execution_count": 24,
     "metadata": {},
     "output_type": "execute_result"
    }
   ],
   "source": [
    "df['salaire'] = df['ID'].apply(salaire)\n",
    "df['salaire']"
   ]
  }
 ],
 "metadata": {
  "kernelspec": {
   "display_name": "projet_3",
   "language": "python",
   "name": "python3"
  },
  "language_info": {
   "codemirror_mode": {
    "name": "ipython",
    "version": 3
   },
   "file_extension": ".py",
   "mimetype": "text/x-python",
   "name": "python",
   "nbconvert_exporter": "python",
   "pygments_lexer": "ipython3",
   "version": "3.12.8"
  }
 },
 "nbformat": 4,
 "nbformat_minor": 2
}
